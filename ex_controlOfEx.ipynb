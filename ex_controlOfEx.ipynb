{
 "cells": [
  {
   "cell_type": "code",
   "execution_count": 58,
   "metadata": {},
   "outputs": [
    {
     "data": {
      "text/html": [
       "<div>\n",
       "<style scoped>\n",
       "    .dataframe tbody tr th:only-of-type {\n",
       "        vertical-align: middle;\n",
       "    }\n",
       "\n",
       "    .dataframe tbody tr th {\n",
       "        vertical-align: top;\n",
       "    }\n",
       "\n",
       "    .dataframe thead th {\n",
       "        text-align: right;\n",
       "    }\n",
       "</style>\n",
       "<table border=\"1\" class=\"dataframe\">\n",
       "  <thead>\n",
       "    <tr style=\"text-align: right;\">\n",
       "      <th></th>\n",
       "      <th>names</th>\n",
       "      <th>woman</th>\n",
       "      <th>ages</th>\n",
       "      <th>country</th>\n",
       "      <th>education</th>\n",
       "    </tr>\n",
       "  </thead>\n",
       "  <tbody>\n",
       "    <tr>\n",
       "      <th>0</th>\n",
       "      <td>Tomás</td>\n",
       "      <td>False</td>\n",
       "      <td>32</td>\n",
       "      <td>Chile</td>\n",
       "      <td>Bach</td>\n",
       "    </tr>\n",
       "    <tr>\n",
       "      <th>1</th>\n",
       "      <td>Pauline</td>\n",
       "      <td>True</td>\n",
       "      <td>33</td>\n",
       "      <td>Senegal</td>\n",
       "      <td>Bach</td>\n",
       "    </tr>\n",
       "    <tr>\n",
       "      <th>2</th>\n",
       "      <td>Pablo</td>\n",
       "      <td>False</td>\n",
       "      <td>28</td>\n",
       "      <td>Spain</td>\n",
       "      <td>Master</td>\n",
       "    </tr>\n",
       "    <tr>\n",
       "      <th>3</th>\n",
       "      <td>Bjork</td>\n",
       "      <td>False</td>\n",
       "      <td>30</td>\n",
       "      <td>Norway</td>\n",
       "      <td>PhD</td>\n",
       "    </tr>\n",
       "    <tr>\n",
       "      <th>4</th>\n",
       "      <td>Alan</td>\n",
       "      <td>False</td>\n",
       "      <td>32</td>\n",
       "      <td>Peru</td>\n",
       "      <td>Bach</td>\n",
       "    </tr>\n",
       "    <tr>\n",
       "      <th>5</th>\n",
       "      <td>Juana</td>\n",
       "      <td>True</td>\n",
       "      <td>27</td>\n",
       "      <td>Peru</td>\n",
       "      <td>Master</td>\n",
       "    </tr>\n",
       "  </tbody>\n",
       "</table>\n",
       "</div>"
      ],
      "text/plain": [
       "     names  woman  ages  country education\n",
       "0    Tomás  False    32    Chile      Bach\n",
       "1  Pauline   True    33  Senegal      Bach\n",
       "2    Pablo  False    28    Spain    Master\n",
       "3    Bjork  False    30   Norway       PhD\n",
       "4     Alan  False    32     Peru      Bach\n",
       "5    Juana   True    27     Peru    Master"
      ]
     },
     "execution_count": 58,
     "metadata": {},
     "output_type": "execute_result"
    }
   ],
   "source": [
    "#Create Dataframe\n",
    "import pandas\n",
    "names=[\"Tomás\", \"Pauline\", \"Pablo\", \"Bjork\",\"Alan\",\"Juana\"]\n",
    "woman=[False,True,False,False,False,True]\n",
    "ages=[32,33,28,30,32,27]\n",
    "country=[\"Chile\", \"Senegal\", \"Spain\", \"Norway\",\"Peru\",\"Peru\"]\n",
    "education=[\"Bach\", \"Bach\", \"Master\", \"PhD\",\"Bach\",\"Master\"]\n",
    "Friends={'names':names, 'woman':woman, 'ages' :ages, 'country':country, 'education':education}\n",
    "Friends = pandas.DataFrame(Friends)\n",
    "Friends\n"
   ]
  },
  {
   "cell_type": "code",
   "execution_count": 65,
   "metadata": {
    "scrolled": false
   },
   "outputs": [
    {
     "data": {
      "text/plain": [
       "[('Tomás', 'Chile'),\n",
       " ('Pauline', 'Senegal'),\n",
       " ('Pablo', 'Spain'),\n",
       " ('Bjork', 'Norway'),\n",
       " ('Alan', 'Peru'),\n",
       " ('Juana', 'Peru')]"
      ]
     },
     "execution_count": 65,
     "metadata": {},
     "output_type": "execute_result"
    }
   ],
   "source": [
    "#Create a list of tuples, where each tuple is a pair (name,country), using comprehensions\n",
    "tuplelist = tuple(zip(names,country))\n",
    "tuplelist\n",
    "\n",
    "listofTuples = [(x, y) for (x, y) \n",
    "                in zip(Friends.names, Friends.country)]\n",
    "listofTuples\n"
   ]
  },
  {
   "cell_type": "code",
   "execution_count": 67,
   "metadata": {
    "scrolled": true
   },
   "outputs": [
    {
     "data": {
      "text/plain": [
       "2"
      ]
     },
     "execution_count": 67,
     "metadata": {},
     "output_type": "execute_result"
    }
   ],
   "source": [
    "#Implement a for loop to count how many peruvian there are in the data frame. Try using not in one solution and ~ in another one.\n",
    "Perucounter=0\n",
    "for country in Friends['country']:\n",
    "    if country == 'Peru':\n",
    "        Perucounter +=1\n",
    "Perucounter\n",
    "\n",
    "Perucounter2=len(Friends['country'])    \n",
    "for country in Friends['country']:\n",
    "    if not country == 'Peru':\n",
    "        Perucounter2 -=1\n",
    "        \n",
    "Perucounter2\n",
    "      \n",
    "Friends.where(Friends.country=='Peru').dropna().shape[0]\n",
    "#Shape gives me only the first value in the output\n",
    "        \n",
    "        \n",
    "        "
   ]
  },
  {
   "cell_type": "code",
   "execution_count": 47,
   "metadata": {},
   "outputs": [],
   "source": [
    "#Implement a for loop to get the count of men. Try using not in one solution and ~ in another one.\n",
    "#shape gives me only the first value in the outpu"
   ]
  },
  {
   "cell_type": "code",
   "execution_count": 73,
   "metadata": {},
   "outputs": [
    {
     "data": {
      "text/plain": [
       "4"
      ]
     },
     "execution_count": 73,
     "metadata": {},
     "output_type": "execute_result"
    }
   ],
   "source": [
    "Malecounter=0\n",
    "for woman in Friends['woman']:\n",
    "    if woman == False:\n",
    "        Perucounter +=1\n",
    "Malecounter\n",
    "\n",
    "Malecounter2=len(Friends.woman)    \n",
    "for woman in Friends.woman:\n",
    "    if not woman == False:\n",
    "        Malecounter2 -=1\n",
    "        \n",
    "Malecounter2\n",
    "\n",
    "#Malecounter1=0\n",
    "#for man in ~Friends.woman:\n",
    "#    if man:\n",
    "#        Malecounter1 +=1\n",
    "#Malecounter2\n",
    "\n",
    "#Friends.where(Friends.woman == False).dropna().shape[0]\n",
    "#for woman in friends.woman:\n",
    "#    if not woman:\n",
    "#       counterofMen +=1\n",
    "#tilde is a reverser. "
   ]
  }
 ],
 "metadata": {
  "kernelspec": {
   "display_name": "Python 3",
   "language": "python",
   "name": "python3"
  },
  "language_info": {
   "codemirror_mode": {
    "name": "ipython",
    "version": 3
   },
   "file_extension": ".py",
   "mimetype": "text/x-python",
   "name": "python",
   "nbconvert_exporter": "python",
   "pygments_lexer": "ipython3",
   "version": "3.7.1"
  }
 },
 "nbformat": 4,
 "nbformat_minor": 2
}
