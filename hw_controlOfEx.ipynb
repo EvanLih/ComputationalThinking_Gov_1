{
 "cells": [
  {
   "cell_type": "code",
   "execution_count": 10,
   "metadata": {},
   "outputs": [
    {
     "data": {
      "text/plain": [
       "3"
      ]
     },
     "execution_count": 10,
     "metadata": {},
     "output_type": "execute_result"
    }
   ],
   "source": [
    "#Implement a _for_ loop to get the count of men that have a Bach degree in the data frame. I recommend the use of **zip** (somwehere)\n",
    "\n",
    "import pandas\n",
    "names=[\"Tomás\", \"Pauline\", \"Pablo\", \"Bjork\",\"Alan\",\"Juana\"]\n",
    "woman=[False,True,False,False,False,True]\n",
    "ages=[32,33,28,30,32,27]\n",
    "country=[\"Chile\", \"Senegal\", \"Spain\", \"Norway\",\"Peru\",\"Peru\"]\n",
    "education=[\"Bach\", \"Bach\", \"Master\", \"PhD\",\"Bach\",\"Master\"]\n",
    "Friends={'names':names, 'woman':woman, 'ages' :ages, 'country':country, 'education':education}\n",
    "Friends = pandas.DataFrame.from_dict(Friends)\n",
    "\n",
    "Bachcounter = 0\n",
    "\n",
    "for education in Friends['education']:\n",
    "    if education == 'Bach':\n",
    "        Bachcounter +=1\n",
    "        \n",
    "Bachcounter\n",
    "    \n",
    "\n"
   ]
  },
  {
   "cell_type": "code",
   "execution_count": 11,
   "metadata": {},
   "outputs": [
    {
     "ename": "SyntaxError",
     "evalue": "invalid syntax (<ipython-input-11-b8d407e52acb>, line 1)",
     "output_type": "error",
     "traceback": [
      "\u001b[0;36m  File \u001b[0;32m\"<ipython-input-11-b8d407e52acb>\"\u001b[0;36m, line \u001b[0;32m1\u001b[0m\n\u001b[0;31m    Implement a _for_ loop to get the count of people whose current age is an even number.\u001b[0m\n\u001b[0m              ^\u001b[0m\n\u001b[0;31mSyntaxError\u001b[0m\u001b[0;31m:\u001b[0m invalid syntax\n"
     ]
    }
   ],
   "source": [
    "#Implement a _for_ loop to get the count of people whose current age is an even number.\n",
    "\n",
    "Evencounter = 0\n",
    "\n",
    "for education in Friends['education']:\n",
    "    if education == 'Bach':\n",
    "        Bachcounter +=1\n",
    "        \n",
    "Bachcounter"
   ]
  },
  {
   "cell_type": "code",
   "execution_count": null,
   "metadata": {},
   "outputs": [],
   "source": []
  }
 ],
 "metadata": {
  "kernelspec": {
   "display_name": "Python 3",
   "language": "python",
   "name": "python3"
  },
  "language_info": {
   "codemirror_mode": {
    "name": "ipython",
    "version": 3
   },
   "file_extension": ".py",
   "mimetype": "text/x-python",
   "name": "python",
   "nbconvert_exporter": "python",
   "pygments_lexer": "ipython3",
   "version": "3.7.1"
  }
 },
 "nbformat": 4,
 "nbformat_minor": 2
}
